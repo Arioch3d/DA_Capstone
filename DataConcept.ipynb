{
 "cells": [
  {
   "cell_type": "markdown",
   "id": "38147902",
   "metadata": {},
   "source": [
    "Importing the libraries I will need to use."
   ]
  },
  {
   "cell_type": "code",
   "execution_count": null,
   "id": "426c5278",
   "metadata": {},
   "outputs": [],
   "source": [
    "import pandas as pd\n",
    "import matplotlib as plt\n",
    "import beautifulsoup4 as bs\n",
    "\n"
   ]
  },
  {
   "cell_type": "markdown",
   "id": "99b4b83a",
   "metadata": {
    "notebookRunGroups": {
     "groupValue": "1"
    }
   },
   "source": [
    "Importing the data from the datasets into a Data Frame.\n",
    "\n",
    "pd.DCComics is for the DC Comic Heroes dataset.\n",
    "\n",
    "pd.Marvel is for the Marvel Comic Heroes dataset.\n",
    "\n",
    "pd.powers is the dataset that has the abilities the heroes possess.\n",
    "\n",
    "    Intelligence\n",
    "    Strength\n",
    "    Speed\n",
    "    Durability\n",
    "    Raw Power Score\t\n",
    "    Combat Ability\n",
    "\n"
   ]
  },
  {
   "cell_type": "code",
   "execution_count": null,
   "id": "2bb4882f",
   "metadata": {},
   "outputs": [],
   "source": []
  }
 ],
 "metadata": {
  "language_info": {
   "name": "python"
  }
 },
 "nbformat": 4,
 "nbformat_minor": 5
}
